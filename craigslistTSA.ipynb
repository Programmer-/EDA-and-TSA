{
 "cells": [
  {
   "cell_type": "code",
   "execution_count": 1,
   "metadata": {},
   "outputs": [],
   "source": [
    "#pip install ipywidgets"
   ]
  },
  {
   "cell_type": "code",
   "execution_count": 2,
   "metadata": {},
   "outputs": [],
   "source": [
    "import pandas as pd\n",
    "import numpy as np\n",
    "craigData = pd.read_csv(\"craigslist_vehicles.csv/craigslist_vehicles.csv\")"
   ]
  },
  {
   "cell_type": "code",
   "execution_count": 3,
   "metadata": {},
   "outputs": [
    {
     "data": {
      "text/html": [
       "<div>\n",
       "<style scoped>\n",
       "    .dataframe tbody tr th:only-of-type {\n",
       "        vertical-align: middle;\n",
       "    }\n",
       "\n",
       "    .dataframe tbody tr th {\n",
       "        vertical-align: top;\n",
       "    }\n",
       "\n",
       "    .dataframe thead th {\n",
       "        text-align: right;\n",
       "    }\n",
       "</style>\n",
       "<table border=\"1\" class=\"dataframe\">\n",
       "  <thead>\n",
       "    <tr style=\"text-align: right;\">\n",
       "      <th></th>\n",
       "      <th>Unnamed: 0</th>\n",
       "      <th>id</th>\n",
       "      <th>url</th>\n",
       "      <th>region</th>\n",
       "      <th>region_url</th>\n",
       "      <th>price</th>\n",
       "      <th>year</th>\n",
       "      <th>manufacturer</th>\n",
       "      <th>model</th>\n",
       "      <th>condition</th>\n",
       "      <th>...</th>\n",
       "      <th>type</th>\n",
       "      <th>paint_color</th>\n",
       "      <th>image_url</th>\n",
       "      <th>description</th>\n",
       "      <th>county</th>\n",
       "      <th>state</th>\n",
       "      <th>lat</th>\n",
       "      <th>long</th>\n",
       "      <th>posting_date</th>\n",
       "      <th>removal_date</th>\n",
       "    </tr>\n",
       "  </thead>\n",
       "  <tbody>\n",
       "    <tr>\n",
       "      <th>0</th>\n",
       "      <td>362773</td>\n",
       "      <td>7307679724</td>\n",
       "      <td>https://abilene.craigslist.org/ctd/d/abilene-2...</td>\n",
       "      <td>abilene</td>\n",
       "      <td>https://abilene.craigslist.org</td>\n",
       "      <td>4500</td>\n",
       "      <td>2002.0</td>\n",
       "      <td>bmw</td>\n",
       "      <td>x5</td>\n",
       "      <td>NaN</td>\n",
       "      <td>...</td>\n",
       "      <td>NaN</td>\n",
       "      <td>NaN</td>\n",
       "      <td>https://images.craigslist.org/00m0m_iba78h8ty9...</td>\n",
       "      <td>$4,500 Cash  2002 BMW X5  8 cylinder 4.4L moto...</td>\n",
       "      <td>NaN</td>\n",
       "      <td>tx</td>\n",
       "      <td>32.401556</td>\n",
       "      <td>-99.884713</td>\n",
       "      <td>2021-04-16 00:00:00+00:00</td>\n",
       "      <td>2021-05-02 00:00:00+00:00</td>\n",
       "    </tr>\n",
       "    <tr>\n",
       "      <th>1</th>\n",
       "      <td>362712</td>\n",
       "      <td>7311833696</td>\n",
       "      <td>https://abilene.craigslist.org/ctd/d/abilene-2...</td>\n",
       "      <td>abilene</td>\n",
       "      <td>https://abilene.craigslist.org</td>\n",
       "      <td>4500</td>\n",
       "      <td>2002.0</td>\n",
       "      <td>bmw</td>\n",
       "      <td>x5</td>\n",
       "      <td>NaN</td>\n",
       "      <td>...</td>\n",
       "      <td>NaN</td>\n",
       "      <td>NaN</td>\n",
       "      <td>https://images.craigslist.org/00m0m_iba78h8ty9...</td>\n",
       "      <td>$4,500 Cash  2002 BMW X5  8 cylinder 4.4L moto...</td>\n",
       "      <td>NaN</td>\n",
       "      <td>tx</td>\n",
       "      <td>32.401556</td>\n",
       "      <td>-99.884713</td>\n",
       "      <td>2021-04-24 00:00:00+00:00</td>\n",
       "      <td>2021-04-28 00:00:00+00:00</td>\n",
       "    </tr>\n",
       "    <tr>\n",
       "      <th>2</th>\n",
       "      <td>362722</td>\n",
       "      <td>7311441996</td>\n",
       "      <td>https://abilene.craigslist.org/ctd/d/abilene-2...</td>\n",
       "      <td>abilene</td>\n",
       "      <td>https://abilene.craigslist.org</td>\n",
       "      <td>4900</td>\n",
       "      <td>2006.0</td>\n",
       "      <td>toyota</td>\n",
       "      <td>camry</td>\n",
       "      <td>excellent</td>\n",
       "      <td>...</td>\n",
       "      <td>sedan</td>\n",
       "      <td>silver</td>\n",
       "      <td>https://images.craigslist.org/00808_5FkOw2aGjA...</td>\n",
       "      <td>2006 TOYOTA CAMRY LE Sedan   Ready To Upgrade ...</td>\n",
       "      <td>NaN</td>\n",
       "      <td>tx</td>\n",
       "      <td>32.453848</td>\n",
       "      <td>-99.787900</td>\n",
       "      <td>2021-04-23 00:00:00+00:00</td>\n",
       "      <td>2021-05-25 00:00:00+00:00</td>\n",
       "    </tr>\n",
       "    <tr>\n",
       "      <th>3</th>\n",
       "      <td>362771</td>\n",
       "      <td>7307680715</td>\n",
       "      <td>https://abilene.craigslist.org/ctd/d/abilene-2...</td>\n",
       "      <td>abilene</td>\n",
       "      <td>https://abilene.craigslist.org</td>\n",
       "      <td>6500</td>\n",
       "      <td>2008.0</td>\n",
       "      <td>ford</td>\n",
       "      <td>expedition</td>\n",
       "      <td>NaN</td>\n",
       "      <td>...</td>\n",
       "      <td>NaN</td>\n",
       "      <td>NaN</td>\n",
       "      <td>https://images.craigslist.org/00M0M_i9CoFvVq8o...</td>\n",
       "      <td>$6500.00 2008 Ford Expedition  8 cylinder 5.4L...</td>\n",
       "      <td>NaN</td>\n",
       "      <td>tx</td>\n",
       "      <td>32.401556</td>\n",
       "      <td>-99.884713</td>\n",
       "      <td>2021-04-16 00:00:00+00:00</td>\n",
       "      <td>2021-04-26 00:00:00+00:00</td>\n",
       "    </tr>\n",
       "    <tr>\n",
       "      <th>4</th>\n",
       "      <td>362710</td>\n",
       "      <td>7311834578</td>\n",
       "      <td>https://abilene.craigslist.org/ctd/d/abilene-2...</td>\n",
       "      <td>abilene</td>\n",
       "      <td>https://abilene.craigslist.org</td>\n",
       "      <td>6500</td>\n",
       "      <td>2008.0</td>\n",
       "      <td>ford</td>\n",
       "      <td>expedition</td>\n",
       "      <td>NaN</td>\n",
       "      <td>...</td>\n",
       "      <td>NaN</td>\n",
       "      <td>NaN</td>\n",
       "      <td>https://images.craigslist.org/00M0M_i9CoFvVq8o...</td>\n",
       "      <td>$6500.00 2008 Ford Expedition  8 cylinder 5.4L...</td>\n",
       "      <td>NaN</td>\n",
       "      <td>tx</td>\n",
       "      <td>32.401556</td>\n",
       "      <td>-99.884713</td>\n",
       "      <td>2021-04-24 00:00:00+00:00</td>\n",
       "      <td>2021-05-12 00:00:00+00:00</td>\n",
       "    </tr>\n",
       "  </tbody>\n",
       "</table>\n",
       "<p>5 rows × 28 columns</p>\n",
       "</div>"
      ],
      "text/plain": [
       "   Unnamed: 0          id                                                url  \\\n",
       "0      362773  7307679724  https://abilene.craigslist.org/ctd/d/abilene-2...   \n",
       "1      362712  7311833696  https://abilene.craigslist.org/ctd/d/abilene-2...   \n",
       "2      362722  7311441996  https://abilene.craigslist.org/ctd/d/abilene-2...   \n",
       "3      362771  7307680715  https://abilene.craigslist.org/ctd/d/abilene-2...   \n",
       "4      362710  7311834578  https://abilene.craigslist.org/ctd/d/abilene-2...   \n",
       "\n",
       "    region                      region_url  price    year manufacturer  \\\n",
       "0  abilene  https://abilene.craigslist.org   4500  2002.0          bmw   \n",
       "1  abilene  https://abilene.craigslist.org   4500  2002.0          bmw   \n",
       "2  abilene  https://abilene.craigslist.org   4900  2006.0       toyota   \n",
       "3  abilene  https://abilene.craigslist.org   6500  2008.0         ford   \n",
       "4  abilene  https://abilene.craigslist.org   6500  2008.0         ford   \n",
       "\n",
       "        model  condition  ...   type paint_color  \\\n",
       "0          x5        NaN  ...    NaN         NaN   \n",
       "1          x5        NaN  ...    NaN         NaN   \n",
       "2       camry  excellent  ...  sedan      silver   \n",
       "3  expedition        NaN  ...    NaN         NaN   \n",
       "4  expedition        NaN  ...    NaN         NaN   \n",
       "\n",
       "                                           image_url  \\\n",
       "0  https://images.craigslist.org/00m0m_iba78h8ty9...   \n",
       "1  https://images.craigslist.org/00m0m_iba78h8ty9...   \n",
       "2  https://images.craigslist.org/00808_5FkOw2aGjA...   \n",
       "3  https://images.craigslist.org/00M0M_i9CoFvVq8o...   \n",
       "4  https://images.craigslist.org/00M0M_i9CoFvVq8o...   \n",
       "\n",
       "                                         description county state        lat  \\\n",
       "0  $4,500 Cash  2002 BMW X5  8 cylinder 4.4L moto...    NaN    tx  32.401556   \n",
       "1  $4,500 Cash  2002 BMW X5  8 cylinder 4.4L moto...    NaN    tx  32.401556   \n",
       "2  2006 TOYOTA CAMRY LE Sedan   Ready To Upgrade ...    NaN    tx  32.453848   \n",
       "3  $6500.00 2008 Ford Expedition  8 cylinder 5.4L...    NaN    tx  32.401556   \n",
       "4  $6500.00 2008 Ford Expedition  8 cylinder 5.4L...    NaN    tx  32.401556   \n",
       "\n",
       "        long               posting_date               removal_date  \n",
       "0 -99.884713  2021-04-16 00:00:00+00:00  2021-05-02 00:00:00+00:00  \n",
       "1 -99.884713  2021-04-24 00:00:00+00:00  2021-04-28 00:00:00+00:00  \n",
       "2 -99.787900  2021-04-23 00:00:00+00:00  2021-05-25 00:00:00+00:00  \n",
       "3 -99.884713  2021-04-16 00:00:00+00:00  2021-04-26 00:00:00+00:00  \n",
       "4 -99.884713  2021-04-24 00:00:00+00:00  2021-05-12 00:00:00+00:00  \n",
       "\n",
       "[5 rows x 28 columns]"
      ]
     },
     "execution_count": 3,
     "metadata": {},
     "output_type": "execute_result"
    }
   ],
   "source": [
    "craigData.head()"
   ]
  },
  {
   "cell_type": "code",
   "execution_count": 4,
   "metadata": {},
   "outputs": [
    {
     "name": "stdout",
     "output_type": "stream",
     "text": [
      "<class 'pandas.core.frame.DataFrame'>\n",
      "RangeIndex: 426880 entries, 0 to 426879\n",
      "Data columns (total 28 columns):\n",
      " #   Column        Non-Null Count   Dtype  \n",
      "---  ------        --------------   -----  \n",
      " 0   Unnamed: 0    426880 non-null  int64  \n",
      " 1   id            426880 non-null  int64  \n",
      " 2   url           426880 non-null  object \n",
      " 3   region        426880 non-null  object \n",
      " 4   region_url    426880 non-null  object \n",
      " 5   price         426880 non-null  int64  \n",
      " 6   year          425675 non-null  float64\n",
      " 7   manufacturer  409234 non-null  object \n",
      " 8   model         421603 non-null  object \n",
      " 9   condition     252776 non-null  object \n",
      " 10  cylinders     249202 non-null  object \n",
      " 11  fuel          423867 non-null  object \n",
      " 12  odometer      422480 non-null  float64\n",
      " 13  title_status  418638 non-null  object \n",
      " 14  transmission  424324 non-null  object \n",
      " 15  VIN           265838 non-null  object \n",
      " 16  drive         296313 non-null  object \n",
      " 17  size          120519 non-null  object \n",
      " 18  type          334022 non-null  object \n",
      " 19  paint_color   296677 non-null  object \n",
      " 20  image_url     426812 non-null  object \n",
      " 21  description   426810 non-null  object \n",
      " 22  county        0 non-null       float64\n",
      " 23  state         426880 non-null  object \n",
      " 24  lat           420331 non-null  float64\n",
      " 25  long          420331 non-null  float64\n",
      " 26  posting_date  426812 non-null  object \n",
      " 27  removal_date  426812 non-null  object \n",
      "dtypes: float64(5), int64(3), object(20)\n",
      "memory usage: 91.2+ MB\n"
     ]
    }
   ],
   "source": [
    "craigData.info()"
   ]
  },
  {
   "cell_type": "code",
   "execution_count": 5,
   "metadata": {},
   "outputs": [
    {
     "data": {
      "text/html": [
       "<div>\n",
       "<style scoped>\n",
       "    .dataframe tbody tr th:only-of-type {\n",
       "        vertical-align: middle;\n",
       "    }\n",
       "\n",
       "    .dataframe tbody tr th {\n",
       "        vertical-align: top;\n",
       "    }\n",
       "\n",
       "    .dataframe thead th {\n",
       "        text-align: right;\n",
       "    }\n",
       "</style>\n",
       "<table border=\"1\" class=\"dataframe\">\n",
       "  <thead>\n",
       "    <tr style=\"text-align: right;\">\n",
       "      <th></th>\n",
       "      <th>Unnamed: 0</th>\n",
       "      <th>id</th>\n",
       "      <th>price</th>\n",
       "      <th>year</th>\n",
       "      <th>odometer</th>\n",
       "      <th>county</th>\n",
       "      <th>lat</th>\n",
       "      <th>long</th>\n",
       "    </tr>\n",
       "  </thead>\n",
       "  <tbody>\n",
       "    <tr>\n",
       "      <th>count</th>\n",
       "      <td>426880.000000</td>\n",
       "      <td>4.268800e+05</td>\n",
       "      <td>4.268800e+05</td>\n",
       "      <td>425675.000000</td>\n",
       "      <td>4.224800e+05</td>\n",
       "      <td>0.0</td>\n",
       "      <td>420331.000000</td>\n",
       "      <td>420331.000000</td>\n",
       "    </tr>\n",
       "    <tr>\n",
       "      <th>mean</th>\n",
       "      <td>213439.500000</td>\n",
       "      <td>7.311487e+09</td>\n",
       "      <td>7.519903e+04</td>\n",
       "      <td>2011.235191</td>\n",
       "      <td>9.804333e+04</td>\n",
       "      <td>NaN</td>\n",
       "      <td>38.493940</td>\n",
       "      <td>-94.748599</td>\n",
       "    </tr>\n",
       "    <tr>\n",
       "      <th>std</th>\n",
       "      <td>123229.785793</td>\n",
       "      <td>4.473170e+06</td>\n",
       "      <td>1.218228e+07</td>\n",
       "      <td>9.452120</td>\n",
       "      <td>2.138815e+05</td>\n",
       "      <td>NaN</td>\n",
       "      <td>5.841533</td>\n",
       "      <td>18.365462</td>\n",
       "    </tr>\n",
       "    <tr>\n",
       "      <th>min</th>\n",
       "      <td>0.000000</td>\n",
       "      <td>7.207408e+09</td>\n",
       "      <td>0.000000e+00</td>\n",
       "      <td>1900.000000</td>\n",
       "      <td>0.000000e+00</td>\n",
       "      <td>NaN</td>\n",
       "      <td>-84.122245</td>\n",
       "      <td>-159.827728</td>\n",
       "    </tr>\n",
       "    <tr>\n",
       "      <th>25%</th>\n",
       "      <td>106719.750000</td>\n",
       "      <td>7.308143e+09</td>\n",
       "      <td>5.900000e+03</td>\n",
       "      <td>2008.000000</td>\n",
       "      <td>3.770400e+04</td>\n",
       "      <td>NaN</td>\n",
       "      <td>34.601900</td>\n",
       "      <td>-111.939847</td>\n",
       "    </tr>\n",
       "    <tr>\n",
       "      <th>50%</th>\n",
       "      <td>213439.500000</td>\n",
       "      <td>7.312621e+09</td>\n",
       "      <td>1.395000e+04</td>\n",
       "      <td>2013.000000</td>\n",
       "      <td>8.554800e+04</td>\n",
       "      <td>NaN</td>\n",
       "      <td>39.150100</td>\n",
       "      <td>-88.432600</td>\n",
       "    </tr>\n",
       "    <tr>\n",
       "      <th>75%</th>\n",
       "      <td>320159.250000</td>\n",
       "      <td>7.315254e+09</td>\n",
       "      <td>2.648575e+04</td>\n",
       "      <td>2017.000000</td>\n",
       "      <td>1.335425e+05</td>\n",
       "      <td>NaN</td>\n",
       "      <td>42.398900</td>\n",
       "      <td>-80.832039</td>\n",
       "    </tr>\n",
       "    <tr>\n",
       "      <th>max</th>\n",
       "      <td>426879.000000</td>\n",
       "      <td>7.317101e+09</td>\n",
       "      <td>3.736929e+09</td>\n",
       "      <td>2022.000000</td>\n",
       "      <td>1.000000e+07</td>\n",
       "      <td>NaN</td>\n",
       "      <td>82.390818</td>\n",
       "      <td>173.885502</td>\n",
       "    </tr>\n",
       "  </tbody>\n",
       "</table>\n",
       "</div>"
      ],
      "text/plain": [
       "          Unnamed: 0            id         price           year      odometer  \\\n",
       "count  426880.000000  4.268800e+05  4.268800e+05  425675.000000  4.224800e+05   \n",
       "mean   213439.500000  7.311487e+09  7.519903e+04    2011.235191  9.804333e+04   \n",
       "std    123229.785793  4.473170e+06  1.218228e+07       9.452120  2.138815e+05   \n",
       "min         0.000000  7.207408e+09  0.000000e+00    1900.000000  0.000000e+00   \n",
       "25%    106719.750000  7.308143e+09  5.900000e+03    2008.000000  3.770400e+04   \n",
       "50%    213439.500000  7.312621e+09  1.395000e+04    2013.000000  8.554800e+04   \n",
       "75%    320159.250000  7.315254e+09  2.648575e+04    2017.000000  1.335425e+05   \n",
       "max    426879.000000  7.317101e+09  3.736929e+09    2022.000000  1.000000e+07   \n",
       "\n",
       "       county            lat           long  \n",
       "count     0.0  420331.000000  420331.000000  \n",
       "mean      NaN      38.493940     -94.748599  \n",
       "std       NaN       5.841533      18.365462  \n",
       "min       NaN     -84.122245    -159.827728  \n",
       "25%       NaN      34.601900    -111.939847  \n",
       "50%       NaN      39.150100     -88.432600  \n",
       "75%       NaN      42.398900     -80.832039  \n",
       "max       NaN      82.390818     173.885502  "
      ]
     },
     "execution_count": 5,
     "metadata": {},
     "output_type": "execute_result"
    }
   ],
   "source": [
    "craigData.describe()"
   ]
  },
  {
   "cell_type": "code",
   "execution_count": 39,
   "metadata": {},
   "outputs": [
    {
     "data": {
      "text/html": [
       "<div>\n",
       "<style scoped>\n",
       "    .dataframe tbody tr th:only-of-type {\n",
       "        vertical-align: middle;\n",
       "    }\n",
       "\n",
       "    .dataframe tbody tr th {\n",
       "        vertical-align: top;\n",
       "    }\n",
       "\n",
       "    .dataframe thead th {\n",
       "        text-align: right;\n",
       "    }\n",
       "</style>\n",
       "<table border=\"1\" class=\"dataframe\">\n",
       "  <thead>\n",
       "    <tr style=\"text-align: right;\">\n",
       "      <th></th>\n",
       "      <th>url</th>\n",
       "      <th>region</th>\n",
       "      <th>region_url</th>\n",
       "      <th>manufacturer</th>\n",
       "      <th>model</th>\n",
       "      <th>condition</th>\n",
       "      <th>cylinders</th>\n",
       "      <th>fuel</th>\n",
       "      <th>title_status</th>\n",
       "      <th>transmission</th>\n",
       "      <th>VIN</th>\n",
       "      <th>drive</th>\n",
       "      <th>size</th>\n",
       "      <th>type</th>\n",
       "      <th>paint_color</th>\n",
       "      <th>image_url</th>\n",
       "      <th>description</th>\n",
       "      <th>state</th>\n",
       "      <th>posting_date</th>\n",
       "      <th>removal_date</th>\n",
       "    </tr>\n",
       "  </thead>\n",
       "  <tbody>\n",
       "    <tr>\n",
       "      <th>count</th>\n",
       "      <td>426880</td>\n",
       "      <td>426880</td>\n",
       "      <td>426880</td>\n",
       "      <td>409234</td>\n",
       "      <td>421603</td>\n",
       "      <td>252776</td>\n",
       "      <td>249202</td>\n",
       "      <td>423867</td>\n",
       "      <td>418638</td>\n",
       "      <td>424324</td>\n",
       "      <td>265838</td>\n",
       "      <td>296313</td>\n",
       "      <td>120519</td>\n",
       "      <td>334022</td>\n",
       "      <td>296677</td>\n",
       "      <td>426812</td>\n",
       "      <td>426810</td>\n",
       "      <td>426880</td>\n",
       "      <td>426812</td>\n",
       "      <td>426812</td>\n",
       "    </tr>\n",
       "    <tr>\n",
       "      <th>unique</th>\n",
       "      <td>426880</td>\n",
       "      <td>404</td>\n",
       "      <td>413</td>\n",
       "      <td>42</td>\n",
       "      <td>29667</td>\n",
       "      <td>6</td>\n",
       "      <td>8</td>\n",
       "      <td>5</td>\n",
       "      <td>6</td>\n",
       "      <td>3</td>\n",
       "      <td>118264</td>\n",
       "      <td>3</td>\n",
       "      <td>4</td>\n",
       "      <td>13</td>\n",
       "      <td>12</td>\n",
       "      <td>241899</td>\n",
       "      <td>360911</td>\n",
       "      <td>51</td>\n",
       "      <td>32</td>\n",
       "      <td>88</td>\n",
       "    </tr>\n",
       "    <tr>\n",
       "      <th>top</th>\n",
       "      <td>https://abilene.craigslist.org/ctd/d/abilene-2...</td>\n",
       "      <td>columbus</td>\n",
       "      <td>https://spokane.craigslist.org</td>\n",
       "      <td>ford</td>\n",
       "      <td>f-150</td>\n",
       "      <td>good</td>\n",
       "      <td>6 cylinders</td>\n",
       "      <td>gas</td>\n",
       "      <td>clean</td>\n",
       "      <td>automatic</td>\n",
       "      <td>1FMJU1JT1HEA52352</td>\n",
       "      <td>4wd</td>\n",
       "      <td>full-size</td>\n",
       "      <td>sedan</td>\n",
       "      <td>white</td>\n",
       "      <td>https://images.craigslist.org/00N0N_1xMPvfxRAI...</td>\n",
       "      <td>35 VEHICLES PRICED UNDER $3000!!!  BIG TIME! T...</td>\n",
       "      <td>ca</td>\n",
       "      <td>2021-05-04 00:00:00+00:00</td>\n",
       "      <td>2021-05-09 00:00:00+00:00</td>\n",
       "    </tr>\n",
       "    <tr>\n",
       "      <th>freq</th>\n",
       "      <td>1</td>\n",
       "      <td>3608</td>\n",
       "      <td>2988</td>\n",
       "      <td>70985</td>\n",
       "      <td>8009</td>\n",
       "      <td>121456</td>\n",
       "      <td>94169</td>\n",
       "      <td>356209</td>\n",
       "      <td>405117</td>\n",
       "      <td>336524</td>\n",
       "      <td>261</td>\n",
       "      <td>131904</td>\n",
       "      <td>63465</td>\n",
       "      <td>87056</td>\n",
       "      <td>79285</td>\n",
       "      <td>7357</td>\n",
       "      <td>231</td>\n",
       "      <td>50614</td>\n",
       "      <td>34294</td>\n",
       "      <td>13594</td>\n",
       "    </tr>\n",
       "  </tbody>\n",
       "</table>\n",
       "</div>"
      ],
      "text/plain": [
       "                                                      url    region  \\\n",
       "count                                              426880    426880   \n",
       "unique                                             426880       404   \n",
       "top     https://abilene.craigslist.org/ctd/d/abilene-2...  columbus   \n",
       "freq                                                    1      3608   \n",
       "\n",
       "                            region_url manufacturer   model condition  \\\n",
       "count                           426880       409234  421603    252776   \n",
       "unique                             413           42   29667         6   \n",
       "top     https://spokane.craigslist.org         ford   f-150      good   \n",
       "freq                              2988        70985    8009    121456   \n",
       "\n",
       "          cylinders    fuel title_status transmission                VIN  \\\n",
       "count        249202  423867       418638       424324             265838   \n",
       "unique            8       5            6            3             118264   \n",
       "top     6 cylinders     gas        clean    automatic  1FMJU1JT1HEA52352   \n",
       "freq          94169  356209       405117       336524                261   \n",
       "\n",
       "         drive       size    type paint_color  \\\n",
       "count   296313     120519  334022      296677   \n",
       "unique       3          4      13          12   \n",
       "top        4wd  full-size   sedan       white   \n",
       "freq    131904      63465   87056       79285   \n",
       "\n",
       "                                                image_url  \\\n",
       "count                                              426812   \n",
       "unique                                             241899   \n",
       "top     https://images.craigslist.org/00N0N_1xMPvfxRAI...   \n",
       "freq                                                 7357   \n",
       "\n",
       "                                              description   state  \\\n",
       "count                                              426810  426880   \n",
       "unique                                             360911      51   \n",
       "top     35 VEHICLES PRICED UNDER $3000!!!  BIG TIME! T...      ca   \n",
       "freq                                                  231   50614   \n",
       "\n",
       "                     posting_date               removal_date  \n",
       "count                      426812                     426812  \n",
       "unique                         32                         88  \n",
       "top     2021-05-04 00:00:00+00:00  2021-05-09 00:00:00+00:00  \n",
       "freq                        34294                      13594  "
      ]
     },
     "execution_count": 39,
     "metadata": {},
     "output_type": "execute_result"
    }
   ],
   "source": [
    "craigData.describe(include='object')"
   ]
  },
  {
   "cell_type": "code",
   "execution_count": 6,
   "metadata": {},
   "outputs": [
    {
     "data": {
      "text/plain": [
       "1655404"
      ]
     },
     "execution_count": 6,
     "metadata": {},
     "output_type": "execute_result"
    }
   ],
   "source": [
    "craigData.isnull().sum().sum()"
   ]
  },
  {
   "cell_type": "code",
   "execution_count": 7,
   "metadata": {},
   "outputs": [
    {
     "data": {
      "text/plain": [
       "Unnamed: 0           0\n",
       "id                   0\n",
       "url                  0\n",
       "region               0\n",
       "region_url           0\n",
       "price                0\n",
       "year              1205\n",
       "manufacturer     17646\n",
       "model             5277\n",
       "condition       174104\n",
       "cylinders       177678\n",
       "fuel              3013\n",
       "odometer          4400\n",
       "title_status      8242\n",
       "transmission      2556\n",
       "VIN             161042\n",
       "drive           130567\n",
       "size            306361\n",
       "type             92858\n",
       "paint_color     130203\n",
       "image_url           68\n",
       "description         70\n",
       "county          426880\n",
       "state                0\n",
       "lat               6549\n",
       "long              6549\n",
       "posting_date        68\n",
       "removal_date        68\n",
       "dtype: int64"
      ]
     },
     "execution_count": 7,
     "metadata": {},
     "output_type": "execute_result"
    }
   ],
   "source": [
    "craigData.isnull().sum()"
   ]
  },
  {
   "cell_type": "code",
   "execution_count": 8,
   "metadata": {},
   "outputs": [
    {
     "data": {
      "text/plain": [
       "Index(['id', 'price', 'year', 'odometer'], dtype='object')"
      ]
     },
     "execution_count": 8,
     "metadata": {},
     "output_type": "execute_result"
    }
   ],
   "source": [
    "numerical_columns = craigData.select_dtypes(include=['int64', 'float64'])\n",
    "numerical_columns = numerical_columns.drop(['county','Unnamed: 0', 'lat', 'long'], axis=1)\n",
    "numerical_columns.columns"
   ]
  },
  {
   "cell_type": "code",
   "execution_count": 9,
   "metadata": {},
   "outputs": [
    {
     "data": {
      "text/plain": [
       "id          0.000000\n",
       "price       0.000000\n",
       "year        0.282281\n",
       "odometer    1.030735\n",
       "dtype: float64"
      ]
     },
     "execution_count": 9,
     "metadata": {},
     "output_type": "execute_result"
    }
   ],
   "source": [
    "percentageMissing = (numerical_columns.isnull().sum() / len(numerical_columns)) * 100\n",
    "percentageMissing"
   ]
  },
  {
   "cell_type": "code",
   "execution_count": 10,
   "metadata": {},
   "outputs": [
    {
     "data": {
      "text/plain": [
       "id          0.0\n",
       "price       0.0\n",
       "year        0.0\n",
       "odometer    0.0\n",
       "dtype: float64"
      ]
     },
     "execution_count": 10,
     "metadata": {},
     "output_type": "execute_result"
    }
   ],
   "source": [
    "numerical_columns = numerical_columns.dropna()\n",
    "percentageMissing = (numerical_columns.isnull().sum() / len(numerical_columns)) * 100\n",
    "percentageMissing"
   ]
  },
  {
   "cell_type": "code",
   "execution_count": 11,
   "metadata": {},
   "outputs": [],
   "source": [
    "correlation_matrix = numerical_columns.corr()"
   ]
  },
  {
   "cell_type": "code",
   "execution_count": 12,
   "metadata": {},
   "outputs": [
    {
     "data": {
      "image/png": "[encoded data removed]",
      "text/plain": [
       "<Figure size 640x480 with 2 Axes>"
      ]
     },
     "metadata": {},
     "output_type": "display_data"
    }
   ],
   "source": [
    "import seaborn as sns\n",
    "import matplotlib.pyplot as plt\n",
    "\n",
    "# Create a heatmap\n",
    "sns.heatmap(correlation_matrix, annot=True, cmap=\"coolwarm\", linewidths=0.5)\n",
    "plt.show()"
   ]
  },
  {
   "cell_type": "code",
   "execution_count": 13,
   "metadata": {},
   "outputs": [
    {
     "data": {
      "image/png": "[encoded data removed]",
      "text/plain": [
       "<Figure size 1500x1000 with 4 Axes>"
      ]
     },
     "metadata": {},
     "output_type": "display_data"
    }
   ],
   "source": [
    "import scipy\n",
    "sns.clustermap(correlation_matrix, cmap=\"coolwarm\", linewidths=0.5, figsize=(15, 10))\n",
    "plt.show()"
   ]
  },
  {
   "cell_type": "code",
   "execution_count": 14,
   "metadata": {},
   "outputs": [],
   "source": [
    "#craigData.dtypes\n",
    "#correspondence analysis for the categorical variables\n",
    "categorical_columns = craigData\n",
    "categorical_columns = categorical_columns.drop(['url', 'region_url', 'image_url', 'size','lat', 'long','price','year','odometer', 'Unnamed: 0', 'county'], axis=1)\n",
    "percetageNa = categorical_columns.isnull().sum() / len(categorical_columns) * 100\n",
    "#percetageNa\n",
    "\n",
    "categorical_columns = categorical_columns.dropna()\n",
    "\n",
    "percetageNa = categorical_columns.isnull().sum() / len(categorical_columns) * 100\n",
    "#percetageNa\n"
   ]
  },
  {
   "cell_type": "code",
   "execution_count": 15,
   "metadata": {},
   "outputs": [],
   "source": [
    "merged_df = pd.merge(categorical_columns,numerical_columns, on='id', how='inner')"
   ]
  },
  {
   "cell_type": "code",
   "execution_count": 16,
   "metadata": {},
   "outputs": [
    {
     "name": "stdout",
     "output_type": "stream",
     "text": [
      "id\n",
      "region\n",
      "manufacturer\n",
      "model\n",
      "condition\n",
      "cylinders\n",
      "fuel\n",
      "title_status\n",
      "transmission\n",
      "VIN\n",
      "drive\n",
      "type\n",
      "paint_color\n",
      "description\n",
      "state\n",
      "posting_date\n",
      "removal_date\n",
      "price\n",
      "year\n",
      "odometer\n"
     ]
    }
   ],
   "source": [
    "for column in list(merged_df):\n",
    "    print(column)"
   ]
  },
  {
   "cell_type": "code",
   "execution_count": 17,
   "metadata": {},
   "outputs": [],
   "source": [
    "merged_df['posting_date'] = pd.to_datetime(merged_df['posting_date']).dt.tz_localize(None)\n",
    "merged_df['removal_date'] = pd.to_datetime(merged_df['removal_date']).dt.tz_localize(None)"
   ]
  },
  {
   "cell_type": "code",
   "execution_count": 18,
   "metadata": {},
   "outputs": [
    {
     "name": "stdout",
     "output_type": "stream",
     "text": [
      "Column id: 61005\n",
      "Column region: 398\n",
      "Column manufacturer: 41\n",
      "Column model: 6616\n",
      "Column condition: 6\n",
      "Column cylinders: 8\n",
      "Column fuel: 5\n",
      "Column title_status: 6\n",
      "Column transmission: 3\n",
      "Column VIN: 31840\n",
      "Column drive: 3\n",
      "Column type: 13\n",
      "Column paint_color: 12\n",
      "Column description: 53232\n",
      "Column state: 51\n",
      "Column posting_date: 32\n",
      "Column removal_date: 82\n",
      "Column price: 3995\n",
      "Column year: 91\n",
      "Column odometer: 24275\n"
     ]
    }
   ],
   "source": [
    "for column in merged_df.columns:\n",
    "    unique_values = merged_df[column].unique()\n",
    "    print(f'Column {column}: {len(unique_values)}')"
   ]
  },
  {
   "cell_type": "code",
   "execution_count": 19,
   "metadata": {},
   "outputs": [
    {
     "name": "stdout",
     "output_type": "stream",
     "text": [
      "state with the highest posting is wy with 6831 postings\n",
      "      state                 region  posting_date\n",
      "state                                           \n",
      "ak       ak     anchorage / mat-su           615\n",
      "al       al             birmingham           237\n",
      "ar       ar           fayetteville           177\n",
      "az       az                 tucson           399\n",
      "ca       ca               stockton           611\n",
      "co       co       colorado springs           396\n",
      "ct       ct               hartford           382\n",
      "dc       dc         washington, DC           391\n",
      "de       de               delaware           208\n",
      "fl       fl           jacksonville           714\n",
      "ga       ga                atlanta           350\n",
      "hi       hi                 hawaii           306\n",
      "ia       ia             des moines           593\n",
      "id       id                  boise           267\n",
      "il       il           st louis, MO           427\n",
      "in       in           indianapolis           507\n",
      "ks       ks        kansas city, MO           461\n",
      "ky       ky             louisville           546\n",
      "la       la            new orleans           117\n",
      "ma       ma                 boston           489\n",
      "md       md              baltimore           217\n",
      "me       me                  maine           301\n",
      "mi       mi           grand rapids           562\n",
      "mn       mn  minneapolis / st paul           456\n",
      "mo       mo            springfield           291\n",
      "ms       ms      north mississippi            44\n",
      "mt       mt               billings           173\n",
      "nc       nc  raleigh / durham / CH           481\n",
      "nd       nd               bismarck            64\n",
      "ne       ne                lincoln           136\n",
      "nh       nh          new hampshire           318\n",
      "nj       nj             central NJ           541\n",
      "nm       nm            albuquerque           329\n",
      "nv       nv              las vegas           337\n",
      "ny       ny                 albany           524\n",
      "oh       oh             cincinnati           461\n",
      "ok       ok                  tulsa           672\n",
      "or       or               portland           320\n",
      "pa       pa             pittsburgh           432\n",
      "ri       ri           rhode island           373\n",
      "sc       sc   greenville / upstate           404\n",
      "sd       sd   rapid city / west SD           111\n",
      "tn       tn              nashville           506\n",
      "tx       tx    dallas / fort worth           447\n",
      "ut       ut         salt lake city           108\n",
      "va       va                roanoke           310\n",
      "vt       vt                vermont           934\n",
      "wa       wa         seattle-tacoma           298\n",
      "wi       wi                madison           565\n",
      "wv       wv             charleston            80\n",
      "wy       wy                wyoming           125\n"
     ]
    }
   ],
   "source": [
    "# Find the region with the highest postings in each state\n",
    "highest_state_postings = merged_df.groupby('state')['posting_date'].count()\n",
    "highest_state_postings = highest_state_postings.reset_index()\n",
    "maxed_state = highest_state_postings.max()\n",
    "print(f'state with the highest posting is {maxed_state.state} with {maxed_state.posting_date} postings')\n",
    "\n",
    "higherst_region_instate = merged_df.groupby(['state', 'region'])['posting_date'].count()\n",
    "higherst_region_instate = higherst_region_instate.reset_index()\n",
    "result = higherst_region_instate.groupby('state').apply(lambda group: group.loc[group['posting_date'].idxmax()])\n",
    "print(result)\n",
    "# for state in higherst_region_instate.state.unique():\n",
    "#     print(f'region with highest posting in {state} is {higherst_region_instate.state.unique().region.max()}')"
   ]
  },
  {
   "cell_type": "code",
   "execution_count": 20,
   "metadata": {},
   "outputs": [
    {
     "name": "stdout",
     "output_type": "stream",
     "text": [
      "['good' 'like new' 'excellent' 'fair' 'new' 'salvage']\n"
     ]
    }
   ],
   "source": [
    "conditionType = merged_df['condition'].unique()\n",
    "print(f'{conditionType}')"
   ]
  },
  {
   "cell_type": "code",
   "execution_count": 21,
   "metadata": {},
   "outputs": [
    {
     "data": {
      "text/plain": [
       "state                vt\n",
       "region          vermont\n",
       "posting_date        934\n",
       "Name: 389, dtype: object"
      ]
     },
     "execution_count": 21,
     "metadata": {},
     "output_type": "execute_result"
    }
   ],
   "source": [
    "new = higherst_region_instate['posting_date'].idxmax()\n",
    "news = higherst_region_instate.loc[new]\n",
    "news"
   ]
  },
  {
   "cell_type": "code",
   "execution_count": 22,
   "metadata": {},
   "outputs": [
    {
     "name": "stdout",
     "output_type": "stream",
     "text": [
      "<class 'pandas.core.frame.DataFrame'>\n",
      "RangeIndex: 61005 entries, 0 to 61004\n",
      "Data columns (total 20 columns):\n",
      " #   Column        Non-Null Count  Dtype         \n",
      "---  ------        --------------  -----         \n",
      " 0   id            61005 non-null  int64         \n",
      " 1   region        61005 non-null  object        \n",
      " 2   manufacturer  61005 non-null  object        \n",
      " 3   model         61005 non-null  object        \n",
      " 4   condition     61005 non-null  object        \n",
      " 5   cylinders     61005 non-null  object        \n",
      " 6   fuel          61005 non-null  object        \n",
      " 7   title_status  61005 non-null  object        \n",
      " 8   transmission  61005 non-null  object        \n",
      " 9   VIN           61005 non-null  object        \n",
      " 10  drive         61005 non-null  object        \n",
      " 11  type          61005 non-null  object        \n",
      " 12  paint_color   61005 non-null  object        \n",
      " 13  description   61005 non-null  object        \n",
      " 14  state         61005 non-null  object        \n",
      " 15  posting_date  61005 non-null  datetime64[ns]\n",
      " 16  removal_date  61005 non-null  datetime64[ns]\n",
      " 17  price         61005 non-null  int64         \n",
      " 18  year          61005 non-null  float64       \n",
      " 19  odometer      61005 non-null  float64       \n",
      "dtypes: datetime64[ns](2), float64(2), int64(2), object(14)\n",
      "memory usage: 9.3+ MB\n"
     ]
    }
   ],
   "source": [
    "merged_df.info()"
   ]
  },
  {
   "cell_type": "code",
   "execution_count": 23,
   "metadata": {},
   "outputs": [
    {
     "name": "stdout",
     "output_type": "stream",
     "text": [
      "post dates are (Timestamp('2021-04-04 00:00:00'), Timestamp('2021-05-05 00:00:00')) \n",
      " removal dates are (Timestamp('2021-04-04 00:00:00'), Timestamp('2021-06-27 00:00:00'))\n"
     ]
    }
   ],
   "source": [
    "postDates = merged_df['posting_date'].min(), merged_df['posting_date'].max()\n",
    "\n",
    "removalDates = merged_df['removal_date'].min(), merged_df['removal_date'].max()\n",
    "\n",
    "print(f'post dates are {postDates} \\n removal dates are {removalDates}')"
   ]
  },
  {
   "cell_type": "code",
   "execution_count": 25,
   "metadata": {},
   "outputs": [
    {
     "name": "stdout",
     "output_type": "stream",
     "text": [
      "<class 'pandas.core.frame.DataFrame'>\n",
      "RangeIndex: 61005 entries, 0 to 61004\n",
      "Data columns (total 20 columns):\n",
      " #   Column        Non-Null Count  Dtype         \n",
      "---  ------        --------------  -----         \n",
      " 0   id            61005 non-null  int64         \n",
      " 1   region        61005 non-null  object        \n",
      " 2   manufacturer  61005 non-null  object        \n",
      " 3   model         61005 non-null  object        \n",
      " 4   condition     61005 non-null  object        \n",
      " 5   cylinders     61005 non-null  object        \n",
      " 6   fuel          61005 non-null  object        \n",
      " 7   title_status  61005 non-null  object        \n",
      " 8   transmission  61005 non-null  object        \n",
      " 9   VIN           61005 non-null  object        \n",
      " 10  drive         61005 non-null  object        \n",
      " 11  type          61005 non-null  object        \n",
      " 12  paint_color   61005 non-null  object        \n",
      " 13  description   61005 non-null  object        \n",
      " 14  state         61005 non-null  object        \n",
      " 15  posting_date  61005 non-null  datetime64[ns]\n",
      " 16  removal_date  61005 non-null  datetime64[ns]\n",
      " 17  price         61005 non-null  int64         \n",
      " 18  year          61005 non-null  float64       \n",
      " 19  odometer      61005 non-null  float64       \n",
      "dtypes: datetime64[ns](2), float64(2), int64(2), object(14)\n",
      "memory usage: 9.3+ MB\n"
     ]
    }
   ],
   "source": [
    "merged_df.info()"
   ]
  },
  {
   "cell_type": "code",
   "execution_count": 97,
   "metadata": {},
   "outputs": [
    {
     "data": {
      "application/vnd.jupyter.widget-view+json": {
       "model_id": "3e6eb6f8527d4dbba3a7129aeead99f8",
       "version_major": 2,
       "version_minor": 0
      },
      "text/plain": [
       "Dropdown(description='Select State:', options=('All', 'tx', 'oh', 'ny', 'ga', 'nm', 'pa', 'ks', 'ia', 'ak', 'm…"
      ]
     },
     "metadata": {},
     "output_type": "display_data"
    },
    {
     "data": {
      "application/vnd.jupyter.widget-view+json": {
       "model_id": "417ae42564ad4d06afad214d546bcf08",
       "version_major": 2,
       "version_minor": 0
      },
      "text/plain": [
       "Dropdown(description='Select Region:', options=('All',), value='All')"
      ]
     },
     "metadata": {},
     "output_type": "display_data"
    },
    {
     "data": {
      "application/vnd.jupyter.widget-view+json": {
       "model_id": "3e3b6a43832145bc8cc559df5ec714df",
       "version_major": 2,
       "version_minor": 0
      },
      "text/plain": [
       "Dropdown(description='Car Type:', options=('All', 'sedan', 'pickup', 'SUV', 'truck', 'hatchback', 'coupe', 'ot…"
      ]
     },
     "metadata": {},
     "output_type": "display_data"
    },
    {
     "data": {
      "application/vnd.jupyter.widget-view+json": {
       "model_id": "191c1f2e98224a039237d84734fa8ea9",
       "version_major": 2,
       "version_minor": 0
      },
      "text/plain": [
       "Dropdown(description='Car Condition:', options=('All', 'good', 'like new', 'excellent', 'fair', 'new', 'salvag…"
      ]
     },
     "metadata": {},
     "output_type": "display_data"
    },
    {
     "data": {
      "application/vnd.jupyter.widget-view+json": {
       "model_id": "6898ec8bc56243b2bc85d2d0fd57a325",
       "version_major": 2,
       "version_minor": 0
      },
      "text/plain": [
       "IntSlider(value=15, description='Graph Size:', max=30, min=5)"
      ]
     },
     "metadata": {},
     "output_type": "display_data"
    },
    {
     "data": {
      "application/vnd.jupyter.widget-view+json": {
       "model_id": "fbe37b2f2db94e8d831a2fe63be0f209",
       "version_major": 2,
       "version_minor": 0
      },
      "text/plain": [
       "Output()"
      ]
     },
     "metadata": {},
     "output_type": "display_data"
    }
   ],
   "source": [
    "import ipywidgets as widgets\n",
    "from IPython.display import display, clear_output\n",
    "import matplotlib.pyplot as plt\n",
    "\n",
    "# Create interactive widgets\n",
    "state_dropdown = widgets.Dropdown(options=['All'] + list(merged_df['state'].unique()), description='Select State:')\n",
    "region_dropdown = widgets.Dropdown(options=['All'], description='Select Region:')\n",
    "type_dropdown = widgets.Dropdown(options=['All'] + list(merged_df['type'].unique()), description='Car Type:')\n",
    "condition_dropdown = widgets.Dropdown(options=['All'] + list(merged_df['condition'].unique()), description='Car Condition:')\n",
    "size_slider = widgets.IntSlider(value=15, min=5, max=30, step=1, description='Adjust The Graph Size:')\n",
    "display(state_dropdown, region_dropdown, type_dropdown, condition_dropdown,size_slider)\n",
    "\n",
    "\n",
    "plot_output = widgets.Output()\n",
    "display(plot_output)\n",
    "\n",
    "# Function to update regions based on the selected state\n",
    "def update_regions(change):\n",
    "    if state_dropdown.value == 'All':\n",
    "        regions_in_state = ['All']\n",
    "    else:\n",
    "        regions_in_state = ['All'] + list(merged_df[merged_df['state'] == state_dropdown.value]['region'].unique())\n",
    "    region_dropdown.options = regions_in_state\n",
    "\n",
    "def update_plot(change):\n",
    "    with plot_output:\n",
    "        clear_output(wait=True)\n",
    "        selected_state = state_dropdown.value\n",
    "        selected_region = region_dropdown.value\n",
    "        selected_type = type_dropdown.value\n",
    "        selected_condition = condition_dropdown.value\n",
    "        graph_size = size_slider.value\n",
    "\n",
    "        if selected_state == 'All':\n",
    "            time_series_data = merged_df\n",
    "        else:\n",
    "            time_series_data = merged_df[merged_df['state'] == selected_state]\n",
    "\n",
    "        if selected_region != 'All':\n",
    "            time_series_data = time_series_data[time_series_data['region'] == selected_region]\n",
    "\n",
    "        if selected_type != 'All':\n",
    "            time_series_data = time_series_data[time_series_data['type'] == selected_type]\n",
    "\n",
    "        if selected_condition != 'All':\n",
    "            time_series_data = time_series_data[time_series_data['condition'] == selected_condition]\n",
    "\n",
    "        time_series = time_series_data.groupby(time_series_data['posting_date'].dt.to_period(\"D\")).size()\n",
    "        time_seriess = time_series_data.groupby(time_series_data['removal_date'].dt.to_period(\"D\")).size()\n",
    "\n",
    "        \n",
    "\n",
    "        # Clear the previous plot and plot the new one\n",
    "        try:\n",
    "            plots = time_series.plot(label='vehicles posted', kind='bar', color='#05ed71', width=0.6)\n",
    "            plots = time_seriess.plot(label='vehicles removed', kind='bar', color='#fcb6b6', width=0.6/3, figsize=(graph_size, 5))\n",
    "            plots.bar_label(plots.containers[0], label_type='edge', color='green')\n",
    "            plots.bar_label(plots.containers[1], label_type='edge', color='red')\n",
    "\n",
    "            plt.title(f\"Daily Inventory Analysis for {selected_type} types in {selected_region} region for {selected_state} state in {selected_condition} conditions\")\n",
    "            plt.xlabel(\"Date\")\n",
    "            plt.ylabel(\"Number of vehicles\")\n",
    "            plt.legend()\n",
    "            plt.xticks(rotation = 60)\n",
    "            plt.show()\n",
    "        except ValueError:\n",
    "            print(f'{selected_condition} for {selected_type} vehicles have not been posted or removed in {selected_region}, {selected_state}')\n",
    "        except IndexError:\n",
    "            print(f'There is no {selected_type} in {selected_condition} condition that has been posted or removed in {selected_region}, {selected_state}')\n",
    "\n",
    "# Watch for changes in the dropdown values and trigger the update\n",
    "state_dropdown.observe(update_regions, names='value')\n",
    "region_dropdown.observe(update_plot, names='value')\n",
    "type_dropdown.observe(update_plot, names='value')\n",
    "condition_dropdown.observe(update_plot, names='value')\n",
    "size_slider.observe(update_plot, names='value')\n"
   ]
  },
  {
   "cell_type": "code",
   "execution_count": null,
   "metadata": {},
   "outputs": [],
   "source": []
  }
 ],
 "metadata": {
  "kernelspec": {
   "display_name": "Python 3 (ipykernel)",
   "language": "python",
   "name": "python3"
  },
  "language_info": {
   "codemirror_mode": {
    "name": "ipython",
    "version": 3
   },
   "file_extension": ".py",
   "mimetype": "text/x-python",
   "name": "python",
   "nbconvert_exporter": "python",
   "pygments_lexer": "ipython3",
   "version": "3.11.5"
  }
 },
 "nbformat": 4,
 "nbformat_minor": 4
}
