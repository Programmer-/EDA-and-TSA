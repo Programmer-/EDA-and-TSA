{
 "cells": [
  {
   "cell_type": "code",
   "execution_count": 1,
   "id": "7cc692e2-9e4e-47c7-ab40-ec2a44bd72a1",
   "metadata": {},
   "outputs": [],
   "source": [
    "# install the ydata-profiling package\n",
    "# pip install ydata-profiling\n",
    "# # load the ydata_profiling package\n",
    "import pandas as pd\n",
    "import numpy as np\n",
    "from ydata_profiling import ProfileReport\n",
    "\n",
    "df = pd.read_csv(\"craigslist_vehicles.csv/craigslist_vehicles.csv\")\n"
   ]
  },
  {
   "cell_type": "code",
   "execution_count": null,
   "id": "a4260227-4350-4897-8741-425d84d524cc",
   "metadata": {},
   "outputs": [],
   "source": [
    "pr_df = ProfileReport(df)\n",
    "pr_df"
   ]
  }
 ],
 "metadata": {
  "kernelspec": {
   "display_name": "Python 3 (ipykernel)",
   "language": "python",
   "name": "python3"
  },
  "language_info": {
   "codemirror_mode": {
    "name": "ipython",
    "version": 3
   },
   "file_extension": ".py",
   "mimetype": "text/x-python",
   "name": "python",
   "nbconvert_exporter": "python",
   "pygments_lexer": "ipython3",
   "version": "3.11.5"
  }
 },
 "nbformat": 4,
 "nbformat_minor": 5
}
